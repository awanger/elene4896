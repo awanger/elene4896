{
 "cells": [
  {
   "cell_type": "markdown",
   "metadata": {},
   "source": [
    "# Calculating Beat-Synchronous Chroma Features\n",
    "\n",
    "Dan Ellis dpwe@ee.columbia.edu 2016-04-04"
   ]
  },
  {
   "cell_type": "code",
   "execution_count": 1,
   "metadata": {
    "collapsed": false
   },
   "outputs": [
    {
     "name": "stdout",
     "output_type": "stream",
     "text": [
      "Populating the interactive namespace from numpy and matplotlib\n"
     ]
    },
    {
     "name": "stderr",
     "output_type": "stream",
     "text": [
      "/Applications/anaconda/lib/python2.7/site-packages/librosa/core/audio.py:37: UserWarning: Could not import scikits.samplerate. Falling back to scipy.signal\n",
      "  warnings.warn('Could not import scikits.samplerate. '\n"
     ]
    }
   ],
   "source": [
    "%pylab inline\n",
    "from __future__ import print_function\n",
    "\n",
    "import cPickle as pickle\n",
    "import os\n",
    "import time\n",
    "import IPython\n",
    "\n",
    "import numpy as np\n",
    "import scipy\n",
    "import sklearn.mixture\n",
    "\n",
    "import librosa\n",
    "import mir_eval"
   ]
  },
  {
   "cell_type": "code",
   "execution_count": 114,
   "metadata": {
    "collapsed": false
   },
   "outputs": [
    {
     "name": "stdout",
     "output_type": "stream",
     "text": [
      "16000 (7477056,)\n",
      "467.316\n"
     ]
    }
   ],
   "source": [
    "# Load in a single track from the 32kbps 16 kHz SR mono collection.\n",
    "DATA_DIR = '/Users/dpwe/Downloads/prac10/data'\n",
    "\n",
    "file_id = 'beatles/Abbey_Road/06-I_Want_You_She_s_So_Heavy_'\n",
    "y, sr = librosa.load(os.path.join(DATA_DIR, 'mp3s', file_id + '.mp3'), sr=None)\n",
    "print(sr, y.shape)\n",
    "print(y.shape[0]/float(sr))"
   ]
  },
  {
   "cell_type": "code",
   "execution_count": 117,
   "metadata": {
    "collapsed": false
   },
   "outputs": [
    {
     "name": "stdout",
     "output_type": "stream",
     "text": [
      "234.375 (1544,)\n",
      "16000 35731\n",
      "396.88\n"
     ]
    },
    {
     "data": {
      "image/png": "[encoded data removed]",
      "text/plain": [
       "<matplotlib.figure.Figure at 0x1195831d0>"
      ]
     },
     "metadata": {},
     "output_type": "display_data"
    }
   ],
   "source": [
    "# Beat tracking.\n",
    "hop_length = 128  # 8 ms at 16 kHz\n",
    "y_harmonic, y_percussive = librosa.effects.hpss(y)\n",
    "tempo, beats = librosa.beat.beat_track(y=y_percussive, sr=sr, hop_length=hop_length, start_bpm=240)\n",
    "print(tempo, beats.shape)\n",
    "plot(beats)\n",
    "print(beats[-1] * hop_length / float(sr))"
   ]
  },
  {
   "cell_type": "code",
   "execution_count": null,
   "metadata": {
    "collapsed": true
   },
   "outputs": [],
   "source": [
    "def my_imshow(data, **kwargs):\n",
    "    \"\"\"Wrapper for imshow that sets common defaults.\"\"\"\n",
    "    plt.imshow(data, interpolation='nearest', aspect='auto', origin='bottom', cmap='gray_r', **kwargs)"
   ]
  },
  {
   "cell_type": "code",
   "execution_count": 119,
   "metadata": {
    "collapsed": false
   },
   "outputs": [
    {
     "name": "stdout",
     "output_type": "stream",
     "text": [
      "(12, 58415)\n",
      "467.32\n",
      "(12, 1545)\n"
     ]
    },
    {
     "data": {
      "text/plain": [
       "<matplotlib.image.AxesImage at 0x119b5fa10>"
      ]
     },
     "execution_count": 119,
     "metadata": {},
     "output_type": "execute_result"
    },
    {
     "data": {
      "image/png": "[encoded data removed]",
      "text/plain": [
       "<matplotlib.figure.Figure at 0x119583910>"
      ]
     },
     "metadata": {},
     "output_type": "display_data"
    }
   ],
   "source": [
    "# Chromagram and beat-level aggregation: CQT-based.\n",
    "frame_chroma = librosa.feature.chroma_cqt(y=y_harmonic, sr=sr, hop_length=hop_length)\n",
    "print(frame_chroma.shape)\n",
    "print(frame_chroma.shape[1]*hop_length/float(sr))\n",
    "beat_chroma = librosa.feature.sync(frame_chroma, beats)\n",
    "print(beat_chroma.shape)\n",
    "plt.subplot(211)\n",
    "my_imshow(beat_chroma[:, :20])"
   ]
  },
  {
   "cell_type": "code",
   "execution_count": 120,
   "metadata": {
    "collapsed": false
   },
   "outputs": [
    {
     "name": "stdout",
     "output_type": "stream",
     "text": [
      "(12, 58415)\n",
      "(12, 1545)\n"
     ]
    },
    {
     "data": {
      "text/plain": [
       "<matplotlib.image.AxesImage at 0x113c1b850>"
      ]
     },
     "execution_count": 120,
     "metadata": {},
     "output_type": "execute_result"
    },
    {
     "data": {
      "image/png": "[encoded data removed]",
      "text/plain": [
       "<matplotlib.figure.Figure at 0x118896850>"
      ]
     },
     "metadata": {},
     "output_type": "display_data"
    }
   ],
   "source": [
    "# Chromagram and beat-level aggregation: STFT-based.\n",
    "frame_chroma = librosa.feature.chroma_stft(y=y, sr=sr, hop_length=hop_length)\n",
    "print(frame_chroma.shape)\n",
    "beat_chroma = librosa.feature.sync(frame_chroma, beats)\n",
    "print(beat_chroma.shape)\n",
    "plt.subplot(211)\n",
    "my_imshow(beat_chroma[:, :20])"
   ]
  },
  {
   "cell_type": "code",
   "execution_count": 84,
   "metadata": {
    "collapsed": false
   },
   "outputs": [],
   "source": [
    "# Read in the original Audacity-format chord annotation files from Isophonics.\n",
    "def read_iso_label_file(filename):\n",
    "    \"\"\"Read in an isophonics-format chord label file.\"\"\"\n",
    "    times = []\n",
    "    labels = []\n",
    "    with open(filename, 'r') as f:\n",
    "        for line in f:\n",
    "            fields = line.strip().split(' ')\n",
    "            start_secs = float(fields[0])\n",
    "            end_secs = float(fields[1])\n",
    "            times.append((start_secs, end_secs))\n",
    "            labels.append(fields[2])\n",
    "    return np.array(times), labels\n",
    "\n",
    "label_time_ranges, labels = read_iso_label_file(os.path.join(DATA_DIR, 'isolabels', file_id + '.txt'))"
   ]
  },
  {
   "cell_type": "code",
   "execution_count": 85,
   "metadata": {
    "collapsed": false
   },
   "outputs": [
    {
     "name": "stdout",
     "output_type": "stream",
     "text": [
      "[[ 0.        0.06    ]\n",
      " [ 0.06      2.282828]\n",
      " [ 2.282828  4.303764]\n",
      " [ 4.303764  6.451609]\n",
      " [ 6.451609  8.541405]]\n",
      "['N', 'A:min', 'A:min/b7', 'A:min/6', 'F']\n"
     ]
    }
   ],
   "source": [
    "print(label_time_ranges[:5])\n",
    "print(labels[:5])"
   ]
  },
  {
   "cell_type": "code",
   "execution_count": 86,
   "metadata": {
    "collapsed": false
   },
   "outputs": [
    {
     "name": "stdout",
     "output_type": "stream",
     "text": [
      "[ 0.204  0.612  1.028  1.46   1.892  2.292  2.7    3.108  3.524  3.932\n",
      "  4.34   4.764  5.18   5.58   5.988  6.412  6.844  7.236  7.628  8.044]\n"
     ]
    }
   ],
   "source": [
    "# MP3s encoded with lame have a 68 ms delay.\n",
    "LAME_DELAY_SECONDS = 0.068\n",
    "frame_rate = sr/float(hop_length)\n",
    "beat_times = beats/frame_rate - LAME_DELAY_SECONDS\n",
    "print(beat_times[:20])"
   ]
  },
  {
   "cell_type": "code",
   "execution_count": 33,
   "metadata": {
    "collapsed": false
   },
   "outputs": [
    {
     "name": "stdout",
     "output_type": "stream",
     "text": [
      "[[ 0.9  0. ]\n",
      " [ 0.   0.5]\n",
      " [ 0.   0.3]]\n"
     ]
    }
   ],
   "source": [
    "def calculate_overlap_durations(ranges_a, ranges_b):\n",
    "    \"\"\"Calculate the duration of overlaps between all pairs of (start, end) intervals.\"\"\"\n",
    "    max_starts_matrix = np.maximum.outer(ranges_a[:, 0], ranges_b[:, 0])\n",
    "    min_ends_matrix = np.minimum.outer(ranges_a[:, 1], ranges_b[:, 1])\n",
    "    overlap_durations = np.maximum(0, min_ends_matrix - max_starts_matrix)\n",
    "    return overlap_durations\n",
    "\n",
    "ranges_a = np.array([[0.0, 1.0], [1.0, 2.0], [2.0, 3.0]])\n",
    "ranges_b = np.array([[0.0, 0.9], [1.5, 2.3]])\n",
    "\n",
    "print(intersect_time_ranges(ranges_a, ranges_b))"
   ]
  },
  {
   "cell_type": "code",
   "execution_count": 35,
   "metadata": {
    "collapsed": false
   },
   "outputs": [
    {
     "name": "stdout",
     "output_type": "stream",
     "text": [
      "[[ 234.228  234.764]\n",
      " [ 234.764  235.228]\n",
      " [ 235.228  235.596]\n",
      " [ 235.596  235.972]\n",
      " [ 235.972  236.348]]\n",
      "['C', 'C', 'C', 'C', 'G', 'G', 'G', 'G', 'A:min', 'A:min', 'A:min', 'A:min/b7', 'F:maj7', 'F:maj7', 'F:maj6', 'F:maj6', 'C', 'C', 'C', 'C', 'G', 'G', 'G', 'G', 'F', 'F', 'F', 'F', 'C', 'C', 'C', 'C']\n"
     ]
    }
   ],
   "source": [
    "def sample_label_sequence(sample_ranges, label_ranges, labels):\n",
    "    \"\"\"Find the most-overlapping label for a list of (start, end) intervals.\"\"\"\n",
    "    overlaps = calculate_overlap_durations(sample_ranges, label_ranges)\n",
    "    best_label = np.argmax(overlaps, axis=1)\n",
    "    return [labels[i] for i in best_label]\n",
    "\n",
    "beat_ranges = np.hstack([beat_times[:, np.newaxis], \n",
    "                         np.hstack([beat_times[1:],\n",
    "                                    2*beat_times[-1] - beat_times[-2]])[:, np.newaxis]])\n",
    "print(beat_ranges[-5:])\n",
    "beat_labels = sample_label_sequence(beat_ranges, label_time_ranges, labels)\n",
    "print(beat_labels[:32])"
   ]
  },
  {
   "cell_type": "code",
   "execution_count": 50,
   "metadata": {
    "collapsed": false
   },
   "outputs": [
    {
     "name": "stdout",
     "output_type": "stream",
     "text": [
      "[ 1  1  1  1  8  8  8  8 22 22 22 22  6  6  6  6  1  1  1  1  8  8  8  8  6\n",
      "  6  6  6  1  1  1  1]\n"
     ]
    }
   ],
   "source": [
    "def chord_name_to_index(labels):\n",
    "    \"\"\"Convert chord name strings into model indices (0..25).\"\"\"\n",
    "    indices = np.zeros(len(labels), dtype=int)\n",
    "    root_degrees = {'C': 0, 'D': 2, 'E': 4, 'F':5, 'G': 7, 'A':9, 'B': 11}\n",
    "    for label_index, label in enumerate(labels):\n",
    "        if label == 'N' or label == 'X':\n",
    "            # Leave at zero.\n",
    "            continue\n",
    "        root_degree = root_degrees[label[0].upper()]\n",
    "        minor = False\n",
    "        if len(label) > 1:\n",
    "            if label[1] == '#':\n",
    "                root_degree = (root_degree + 1) % 12\n",
    "            if label[1] == 'b':\n",
    "                root_degree = (root_degree - 1) % 12\n",
    "            if ':' in label:\n",
    "                modifier = label[label.index(':') + 1:]\n",
    "                if modifier[:3] == 'min':\n",
    "                    minor = True\n",
    "        indices[label_index] = 1 + root_degree + 12 * minor\n",
    "    return indices\n",
    "\n",
    "print(chord_name_to_index(beat_labels[:32]))"
   ]
  },
  {
   "cell_type": "code",
   "execution_count": 133,
   "metadata": {
    "collapsed": false
   },
   "outputs": [
    {
     "name": "stdout",
     "output_type": "stream",
     "text": [
      "(553, 12) (553,) (553,)\n"
     ]
    },
    {
     "data": {
      "text/plain": [
       "[<matplotlib.lines.Line2D at 0x11a9e5a90>]"
      ]
     },
     "execution_count": 133,
     "metadata": {},
     "output_type": "execute_result"
    },
    {
     "data": {
      "image/png": "[encoded data removed]",
      "text/plain": [
       "<matplotlib.figure.Figure at 0x119a59c50>"
      ]
     },
     "metadata": {},
     "output_type": "display_data"
    }
   ],
   "source": [
    "def calculate_chroma_and_labels_of_id(file_id):\n",
    "    \"\"\"Read the audio, calculate beat-sync chroma, sample the label file.\"\"\"\n",
    "    y, sr = librosa.load(os.path.join(DATA_DIR, 'mp3s', file_id + '.mp3'), sr=None)\n",
    "    hop_length = 128  # 8 ms at 16 kHz\n",
    "    y_harmonic, y_percussive = librosa.effects.hpss(y)\n",
    "    tempo, beat_frames = librosa.beat.beat_track(y=y_percussive, sr=sr, hop_length=hop_length, start_bpm=240)\n",
    "    # Append a final beat time one beat beyond the end.\n",
    "    extended_beat_frames = np.hstack([beat_frames, 2*beat_frames[-1] - beat_frames[-2]])\n",
    "    frame_chroma = librosa.feature.chroma_stft(y=y_harmonic, sr=sr, hop_length=hop_length)\n",
    "    # Drop the first beat_chroma which is stuff before the first beat, \n",
    "    # and the final beat_chroma which is everything after the last beat time.\n",
    "    beat_chroma = librosa.feature.sync(frame_chroma, extended_beat_frames).transpose()\n",
    "    # Drop first row if the beat_frames start after the beginning.\n",
    "    if beat_frames[0] > 0:\n",
    "        beat_chroma = beat_chroma[1:]\n",
    "    # Keep only as many frames as beat times.\n",
    "    beat_chroma = beat_chroma[:len(beat_frames)]\n",
    "    assert beat_chroma.shape[0] == beat_frames.shape[0]\n",
    "    # MP3s encoded with lame have a 68 ms delay\n",
    "    LAME_DELAY_SECONDS = 0.068\n",
    "    frame_rate = sr / float(hop_length)\n",
    "    extended_beat_times = extended_beat_frames / frame_rate - LAME_DELAY_SECONDS\n",
    "    beat_times = extended_beat_times[:-1]\n",
    "    beat_ranges = np.hstack([extended_beat_times[:-1, np.newaxis], extended_beat_times[1:, np.newaxis]])\n",
    "    label_time_ranges, labels = read_iso_label_file(os.path.join(\n",
    "        DATA_DIR, 'isolabels', file_id + '.txt'))\n",
    "    beat_labels = sample_label_sequence(beat_ranges, label_time_ranges, labels)\n",
    "    label_indices = chord_name_to_index(beat_labels)\n",
    "    return beat_times, beat_chroma, label_indices\n",
    "\n",
    "file_id = 'beatles/Let_It_Be/06-Let_It_Be'\n",
    "beat_times, beat_chroma, label_indices = calculate_chroma_and_labels_of_id(file_id)\n",
    "print(beat_chroma.shape, beat_times.shape, label_indices.shape)\n",
    "plt.subplot(211)\n",
    "my_imshow(beat_chroma[:50].transpose())\n",
    "plt.subplot(212)\n",
    "plt.plot(label_indices[:50], '.')"
   ]
  },
  {
   "cell_type": "code",
   "execution_count": null,
   "metadata": {
    "collapsed": false
   },
   "outputs": [],
   "source": [
    "# Read and write per-track data files in native Python serialized format.\n",
    "\n",
    "def write_beat_chroma_labels(filename, beat_times, chroma_features, label_indices):\n",
    "    \"\"\"Write out the computed beat-synchronous chroma data.\"\"\"\n",
    "    # Create the enclosing directory if needed.\n",
    "    directory = os.path.dirname(filename)\n",
    "    if directory and not os.path.exists(directory):\n",
    "        os.makedirs(directory)\n",
    "    with open(filename, \"w\") as f:\n",
    "        pickle.dump((beat_times, chroma_features, label_indices), f, pickle.HIGHEST_PROTOCOL)\n",
    "\n",
    "def read_beat_chroma_labels(filename):\n",
    "    \"\"\"Read back a precomputed beat-synchronous chroma record.\"\"\"\n",
    "    with open(filename, \"r\") as f:\n",
    "        beat_times, chroma_features, label_indices = pickle.load(f)\n",
    "    return beat_times, chroma_features, label_indices\n",
    "\n",
    "beatchromlab_filename = os.path.join(DATA_DIR, 'beatchromlabs', file_id + '.pkl')\n",
    "write_beat_chroma_labels(beatchromlab_filename, beat_chroma, beat_times, label_indices)\n",
    "\n",
    "cc, tt, ll = read_beat_chroma_labels(beatchromlab_filename)\n",
    "print(cc.shape, tt.shape, ll.shape)\n",
    "plt.subplot(211)\n",
    "my_imshow(cc[:50].transpose())\n",
    "plt.subplot(212)\n",
    "plt.plot(ll[:50], '.')"
   ]
  },
  {
   "cell_type": "code",
   "execution_count": 74,
   "metadata": {
    "collapsed": false
   },
   "outputs": [
    {
     "name": "stdout",
     "output_type": "stream",
     "text": [
      "180\n"
     ]
    }
   ],
   "source": [
    "# Read in the list of training file IDs.\n",
    "def read_file_list(filename):\n",
    "    \"\"\"Read a text file with one item per line.\"\"\"\n",
    "    items = []\n",
    "    with open(filename, 'r') as f:\n",
    "        for line in f:\n",
    "            items.append(line.strip())\n",
    "    return items\n",
    "\n",
    "train_list_filename = os.path.join(DATA_DIR, '../trainfilelist.txt')\n",
    "train_files = read_file_list(train_list_filename)\n",
    "test_list_filename = os.path.join(DATA_DIR, '../testfilelist.txt')\n",
    "test_files = read_file_list(test_list_filename)\n",
    "\n",
    "all_ids = train_files\n",
    "all_ids.extend(test_files)\n",
    "print(len(all_ids))"
   ]
  },
  {
   "cell_type": "code",
   "execution_count": null,
   "metadata": {
    "collapsed": false
   },
   "outputs": [
    {
     "name": "stdout",
     "output_type": "stream",
     "text": [
      "Tue Apr  5 07:35:43 2016 File 0 of 180: beatles/With_The_Beatles/01-It_Won_t_Be_Long\n",
      "(562,) (562, 12) (562,)\n",
      "Tue Apr  5 07:35:54 2016 File 1 of 180: beatles/With_The_Beatles/02-All_I_ve_Got_To_Do\n"
     ]
    }
   ],
   "source": [
    "for number, file_id in enumerate(all_ids):\n",
    "    print(time.ctime(), \"File {:d} of {:d}: {:s}\".format(number, len(all_ids), file_id))\n",
    "    beat_times, beat_chroma, label_indices = calculate_chroma_and_labels_of_id(file_id)\n",
    "    beatchromlab_filename = os.path.join(DATA_DIR, 'beatchromlabs', file_id + '.pkl')\n",
    "    write_beat_chroma_labels(beatchromlab_filename, beat_times, beat_chroma, label_indices)\n",
    "    print(beat_times.shape, beat_chroma.shape, label_indices.shape)"
   ]
  },
  {
   "cell_type": "code",
   "execution_count": 122,
   "metadata": {
    "collapsed": false
   },
   "outputs": [
    {
     "name": "stdout",
     "output_type": "stream",
     "text": [
      "(1544,) (1546, 12)\n",
      "(1544,) (1544, 12) (1544,)\n"
     ]
    }
   ],
   "source": [
    "file_id = 'beatles/Abbey_Road/06-I_Want_You_She_s_So_Heavy_'\n",
    "beat_times, beat_chroma, label_indices = calculate_chroma_and_labels_of_id(file_id)\n",
    "print(beat_times.shape, beat_chroma.shape, label_indices.shape)"
   ]
  },
  {
   "cell_type": "code",
   "execution_count": null,
   "metadata": {
    "collapsed": true
   },
   "outputs": [],
   "source": []
  }
 ],
 "metadata": {
  "kernelspec": {
   "display_name": "Python 2",
   "language": "python",
   "name": "python2"
  },
  "language_info": {
   "codemirror_mode": {
    "name": "ipython",
    "version": 2
   },
   "file_extension": ".py",
   "mimetype": "text/x-python",
   "name": "python",
   "nbconvert_exporter": "python",
   "pygments_lexer": "ipython2",
   "version": "2.7.11"
  }
 },
 "nbformat": 4,
 "nbformat_minor": 0
}
