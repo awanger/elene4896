{
 "cells": [
  {
   "cell_type": "markdown",
   "metadata": {},
   "source": [
    "# Calculating Beat-Synchronous Chroma Features\n",
    "\n",
    "Dan Ellis dpwe@ee.columbia.edu 2016-04-04"
   ]
  },
  {
   "cell_type": "code",
   "execution_count": 1,
   "metadata": {
    "collapsed": false
   },
   "outputs": [
    {
     "name": "stdout",
     "output_type": "stream",
     "text": [
      "Populating the interactive namespace from numpy and matplotlib\n"
     ]
    },
    {
     "name": "stderr",
     "output_type": "stream",
     "text": [
      "/Applications/anaconda/lib/python2.7/site-packages/librosa/core/audio.py:37: UserWarning: Could not import scikits.samplerate. Falling back to scipy.signal\n",
      "  warnings.warn('Could not import scikits.samplerate. '\n"
     ]
    }
   ],
   "source": [
    "%pylab inline\n",
    "from __future__ import print_function\n",
    "\n",
    "import cPickle as pickle\n",
    "import os\n",
    "import time\n",
    "import IPython\n",
    "\n",
    "import numpy as np\n",
    "import scipy\n",
    "import sklearn.mixture\n",
    "\n",
    "import librosa\n",
    "import mir_eval"
   ]
  },
  {
   "cell_type": "code",
   "execution_count": 6,
   "metadata": {
    "collapsed": false
   },
   "outputs": [
    {
     "name": "stdout",
     "output_type": "stream",
     "text": [
      "sr= 16000 duration= 243.432\n"
     ]
    }
   ],
   "source": [
    "# Load in a single track from the 32kbps 16 kHz SR mono collection.\n",
    "DATA_DIR = '/Users/dpwe/Downloads/prac10/data'\n",
    "\n",
    "file_id = 'beatles/Let_It_Be/06-Let_It_Be'\n",
    "y, sr = librosa.load(os.path.join(DATA_DIR, 'mp3s-32k', file_id + '.mp3'), sr=None)\n",
    "print(\"sr=\", sr, \"duration=\", y.shape[0]/float(sr))"
   ]
  },
  {
   "cell_type": "code",
   "execution_count": 7,
   "metadata": {
    "collapsed": false
   },
   "outputs": [
    {
     "name": "stdout",
     "output_type": "stream",
     "text": [
      "tempo (BPM)= 144.230769231 beat.shape= (550,)\n",
      "[ 0.272  0.688  1.112  1.536  1.968]\n"
     ]
    },
    {
     "data": {
      "text/plain": [
       "[<matplotlib.lines.Line2D at 0x118a3fdd0>]"
      ]
     },
     "execution_count": 7,
     "metadata": {},
     "output_type": "execute_result"
    },
    {
     "data": {
      "image/png": "[encoded data removed]",
      "text/plain": [
       "<matplotlib.figure.Figure at 0x125ddc090>"
      ]
     },
     "metadata": {},
     "output_type": "display_data"
    }
   ],
   "source": [
    "# Beat tracking.\n",
    "hop_length = 128  # 8 ms at 16 kHz\n",
    "tempo, beats = librosa.beat.beat_track(y=y, sr=sr, hop_length=hop_length, start_bpm=240)\n",
    "print(\"tempo (BPM)=\", tempo, \"beat.shape=\", beats.shape)\n",
    "beat_times = beats * hop_length / float(sr)\n",
    "print(beat_times[:5])\n",
    "# Difference of successive beat times shows varying beat duration.\n",
    "plot(np.diff(beat_times))"
   ]
  },
  {
   "cell_type": "code",
   "execution_count": 8,
   "metadata": {
    "collapsed": true
   },
   "outputs": [],
   "source": [
    "def my_imshow(data, **kwargs):\n",
    "    \"\"\"Wrapper for imshow that sets common defaults.\"\"\"\n",
    "    plt.imshow(data, interpolation='nearest', aspect='auto', origin='bottom', cmap='gray_r', **kwargs)"
   ]
  },
  {
   "cell_type": "code",
   "execution_count": 9,
   "metadata": {
    "collapsed": false
   },
   "outputs": [
    {
     "name": "stdout",
     "output_type": "stream",
     "text": [
      "frame_chroma.shape: (12, 30430)\n",
      "beat_chroma.shape: (551, 12)\n"
     ]
    },
    {
     "data": {
      "image/png": "[encoded data removed]",
      "text/plain": [
       "<matplotlib.figure.Figure at 0x1189da6d0>"
      ]
     },
     "metadata": {},
     "output_type": "display_data"
    }
   ],
   "source": [
    "# CQT-based chromagram and beat-level aggregation.\n",
    "frame_chroma = librosa.feature.chroma_cqt(y=y, sr=sr, hop_length=hop_length)\n",
    "print(\"frame_chroma.shape:\", frame_chroma.shape)\n",
    "beat_chroma = librosa.feature.sync(frame_chroma, beats).transpose()\n",
    "print(\"beat_chroma.shape:\", beat_chroma.shape)\n",
    "plt.subplot(211)\n",
    "my_imshow(beat_chroma[:20].transpose())"
   ]
  },
  {
   "cell_type": "code",
   "execution_count": 10,
   "metadata": {
    "collapsed": false
   },
   "outputs": [
    {
     "name": "stdout",
     "output_type": "stream",
     "text": [
      "[ 1  1  1  1  8  8  8  8 22 22 22 22  6  6  6  6  1  1  1  1  8  8  8  8  6\n",
      "  6  6  6  1  1  1  1]\n"
     ]
    }
   ],
   "source": [
    "# Code to convert the Isophonics label files into beat-references we need.\n",
    "def read_iso_label_file(filename):\n",
    "    \"\"\"Read in an isophonics-format chord label file.\"\"\"\n",
    "    times = []\n",
    "    labels = []\n",
    "    with open(filename, 'r') as f:\n",
    "        for line in f:\n",
    "            fields = line.strip().split(' ')\n",
    "            start_secs = float(fields[0])\n",
    "            end_secs = float(fields[1])\n",
    "            times.append((start_secs, end_secs))\n",
    "            labels.append(fields[2])\n",
    "    return np.array(times), labels\n",
    "\n",
    "def calculate_overlap_durations(ranges_a, ranges_b):\n",
    "    \"\"\"Calculate the duration of overlaps between all pairs of (start, end) intervals.\"\"\"\n",
    "    max_starts_matrix = np.maximum.outer(ranges_a[:, 0], ranges_b[:, 0])\n",
    "    min_ends_matrix = np.minimum.outer(ranges_a[:, 1], ranges_b[:, 1])\n",
    "    overlap_durations = np.maximum(0, min_ends_matrix - max_starts_matrix)\n",
    "    return overlap_durations\n",
    "\n",
    "def sample_label_sequence(sample_ranges, label_ranges, labels):\n",
    "    \"\"\"Find the most-overlapping label for a list of (start, end) intervals.\"\"\"\n",
    "    overlaps = calculate_overlap_durations(sample_ranges, label_ranges)\n",
    "    best_label = np.argmax(overlaps, axis=1)\n",
    "    return [labels[i] for i in best_label]\n",
    "\n",
    "def chord_name_to_index(labels):\n",
    "    \"\"\"Convert chord name strings into model indices (0..25).\"\"\"\n",
    "    indices = np.zeros(len(labels), dtype=int)\n",
    "    root_degrees = {'C': 0, 'D': 2, 'E': 4, 'F':5, 'G': 7, 'A':9, 'B': 11}\n",
    "    for label_index, label in enumerate(labels):\n",
    "        if label == 'N' or label == 'X':\n",
    "            # Leave at zero.\n",
    "            continue\n",
    "        root_degree = root_degrees[label[0].upper()]\n",
    "        minor = False\n",
    "        if len(label) > 1:\n",
    "            if label[1] == '#':\n",
    "                root_degree = (root_degree + 1) % 12\n",
    "            if label[1] == 'b':\n",
    "                root_degree = (root_degree - 1) % 12\n",
    "            if ':' in label:\n",
    "                modifier = label[label.index(':') + 1:]\n",
    "                if modifier[:3] == 'min':\n",
    "                    minor = True\n",
    "        indices[label_index] = 1 + root_degree + 12 * minor\n",
    "    return indices\n",
    "\n",
    "beat_ranges = np.hstack([beat_times[:, np.newaxis], \n",
    "                         np.hstack([beat_times[1:], \n",
    "                                    2 * beat_times[-1] - beat_times[-2]])[:, np.newaxis]])\n",
    "label_ranges, labels = read_iso_label_file(os.path.join(DATA_DIR, 'isolabels', file_id + '.txt'))\n",
    "print(chord_name_to_index(sample_label_sequence(beat_ranges, label_ranges, labels)[:32]))"
   ]
  },
  {
   "cell_type": "code",
   "execution_count": 11,
   "metadata": {
    "collapsed": false
   },
   "outputs": [
    {
     "name": "stdout",
     "output_type": "stream",
     "text": [
      "(550, 12) (550,) (550,)\n"
     ]
    },
    {
     "data": {
      "text/plain": [
       "[<matplotlib.lines.Line2D at 0x11423bbd0>]"
      ]
     },
     "execution_count": 11,
     "metadata": {},
     "output_type": "execute_result"
    },
    {
     "data": {
      "image/png": "[encoded data removed]",
      "text/plain": [
       "<matplotlib.figure.Figure at 0x125c63fd0>"
      ]
     },
     "metadata": {},
     "output_type": "display_data"
    }
   ],
   "source": [
    "def calculate_chroma_and_labels_of_id(file_id):\n",
    "    \"\"\"Read the audio, calculate beat-sync chroma, sample the label file.\"\"\"\n",
    "    y, sr = librosa.load(os.path.join(DATA_DIR, 'mp3s-32k', file_id + '.mp3'), sr=None)\n",
    "    hop_length = 128  # 8 ms at 16 kHz\n",
    "    tempo, beat_frames = librosa.beat.beat_track(y=y, sr=sr, hop_length=hop_length, start_bpm=240)\n",
    "    # Append a final beat time one beat beyond the end.\n",
    "    extended_beat_frames = np.hstack([beat_frames, 2*beat_frames[-1] - beat_frames[-2]])\n",
    "    frame_chroma = librosa.feature.chroma_cqt(y=y, sr=sr, hop_length=hop_length)\n",
    "    # Drop the first beat_chroma which is stuff before the first beat, \n",
    "    # and the final beat_chroma which is everything after the last beat time.\n",
    "    beat_chroma = librosa.feature.sync(frame_chroma, extended_beat_frames).transpose()\n",
    "    # Drop first row if the beat_frames start after the beginning.\n",
    "    if beat_frames[0] > 0:\n",
    "        beat_chroma = beat_chroma[1:]\n",
    "    # Keep only as many frames as beat times.\n",
    "    beat_chroma = beat_chroma[:len(beat_frames)]\n",
    "    assert beat_chroma.shape[0] == beat_frames.shape[0]\n",
    "    # MP3s encoded with lame have a 68 ms delay\n",
    "    LAME_DELAY_SECONDS = 0.068\n",
    "    frame_rate = sr / float(hop_length)\n",
    "    extended_beat_times = extended_beat_frames / frame_rate - LAME_DELAY_SECONDS\n",
    "    beat_times = extended_beat_times[:-1]\n",
    "    beat_ranges = np.hstack([extended_beat_times[:-1, np.newaxis], \n",
    "                             extended_beat_times[1:, np.newaxis]])\n",
    "    label_time_ranges, labels = read_iso_label_file(os.path.join(\n",
    "        DATA_DIR, 'isolabels', file_id + '.txt'))\n",
    "    beat_labels = sample_label_sequence(beat_ranges, label_time_ranges, labels)\n",
    "    label_indices = chord_name_to_index(beat_labels)\n",
    "    return beat_times, beat_chroma, label_indices\n",
    "\n",
    "beat_times, beat_chroma, label_indices = calculate_chroma_and_labels_of_id(file_id)\n",
    "print(beat_chroma.shape, beat_times.shape, label_indices.shape)\n",
    "plt.subplot(211)\n",
    "my_imshow(beat_chroma[:50].transpose())\n",
    "plt.subplot(212)\n",
    "plt.plot(label_indices[:50], '.')"
   ]
  },
  {
   "cell_type": "code",
   "execution_count": 13,
   "metadata": {
    "collapsed": false
   },
   "outputs": [
    {
     "name": "stdout",
     "output_type": "stream",
     "text": [
      "(550, 12) (550,) (550,)\n"
     ]
    }
   ],
   "source": [
    "# Read and write per-track data files in native Python serialized format.\n",
    "def write_beat_chroma_labels(filename, beat_times, chroma_features, label_indices):\n",
    "    \"\"\"Write out the computed beat-synchronous chroma data.\"\"\"\n",
    "    # Create the enclosing directory if needed.\n",
    "    directory = os.path.dirname(filename)\n",
    "    if directory and not os.path.exists(directory):\n",
    "        os.makedirs(directory)\n",
    "    with open(filename, \"w\") as f:\n",
    "        pickle.dump((beat_times, chroma_features, label_indices), f, pickle.HIGHEST_PROTOCOL)\n",
    "\n",
    "def read_beat_chroma_labels(filename):\n",
    "    \"\"\"Read back a precomputed beat-synchronous chroma record.\"\"\"\n",
    "    with open(filename, \"r\") as f:\n",
    "        beat_times, chroma_features, label_indices = pickle.load(f)\n",
    "    return beat_times, chroma_features, label_indices\n",
    "\n",
    "beatchromlab_filename = os.path.join(DATA_DIR, 'beatchromlabs', file_id + '.pkl')\n",
    "write_beat_chroma_labels(beatchromlab_filename, beat_chroma, beat_times, label_indices)\n",
    "\n",
    "cc, tt, ll = read_beat_chroma_labels(beatchromlab_filename)\n",
    "print(cc.shape, tt.shape, ll.shape)"
   ]
  },
  {
   "cell_type": "code",
   "execution_count": 14,
   "metadata": {
    "collapsed": false
   },
   "outputs": [
    {
     "name": "stdout",
     "output_type": "stream",
     "text": [
      "# ids: 180\n"
     ]
    }
   ],
   "source": [
    "# Read in the list of training file IDs.\n",
    "def read_file_list(filename):\n",
    "    \"\"\"Read a text file with one item per line.\"\"\"\n",
    "    items = []\n",
    "    with open(filename, 'r') as f:\n",
    "        for line in f:\n",
    "            items.append(line.strip())\n",
    "    return items\n",
    "\n",
    "train_list_filename = os.path.join(DATA_DIR, 'trainfilelist.txt')\n",
    "train_files = read_file_list(train_list_filename)\n",
    "test_list_filename = os.path.join(DATA_DIR, 'testfilelist.txt')\n",
    "test_files = read_file_list(test_list_filename)\n",
    "\n",
    "all_ids = train_files\n",
    "all_ids.extend(test_files)\n",
    "print(\"# ids:\", len(all_ids))"
   ]
  },
  {
   "cell_type": "code",
   "execution_count": 15,
   "metadata": {
    "collapsed": false
   },
   "outputs": [
    {
     "name": "stdout",
     "output_type": "stream",
     "text": [
      "Tue Apr  5 22:56:00 2016 File 0 of 180: beatles/With_The_Beatles/01-It_Won_t_Be_Long\n",
      "Tue Apr  5 22:56:19 2016 File 1 of 180: beatles/With_The_Beatles/02-All_I_ve_Got_To_Do\n",
      "Tue Apr  5 22:56:34 2016 File 2 of 180: beatles/With_The_Beatles/03-All_My_Loving\n",
      "Tue Apr  5 22:56:43 2016 File 3 of 180: beatles/With_The_Beatles/04-Don_t_Bother_Me\n",
      "Tue Apr  5 22:57:05 2016 File 4 of 180: beatles/With_The_Beatles/05-Little_Child\n",
      "Tue Apr  5 22:57:11 2016 File 5 of 180: beatles/With_The_Beatles/06-Till_There_Was_You\n",
      "Tue Apr  5 22:57:23 2016 File 6 of 180: beatles/With_The_Beatles/07-Please_Mister_Postman\n",
      "Tue Apr  5 22:57:47 2016 File 7 of 180: beatles/With_The_Beatles/08-Roll_Over_Beethoven\n",
      "Tue Apr  5 22:57:55 2016 File 8 of 180: beatles/With_The_Beatles/09-Hold_Me_Tight\n",
      "Tue Apr  5 22:58:01 2016 File 9 of 180: beatles/With_The_Beatles/10-You_Really_Got_A_Hold_On_Me\n",
      "Tue Apr  5 22:58:09 2016 File 10 of 180: beatles/With_The_Beatles/11-I_Wanna_Be_Your_Man\n",
      "Tue Apr  5 22:58:17 2016 File 11 of 180: beatles/With_The_Beatles/12-Devil_In_Her_Heart\n",
      "Tue Apr  5 22:58:26 2016 File 12 of 180: beatles/With_The_Beatles/13-Not_A_Second_Time\n",
      "Tue Apr  5 22:58:32 2016 File 13 of 180: beatles/With_The_Beatles/14-Money_That_s_What_I_Want_\n",
      "Tue Apr  5 22:58:39 2016 File 14 of 180: beatles/Rubber_Soul/01-Drive_My_Car\n",
      "Tue Apr  5 22:58:52 2016 File 15 of 180: beatles/Rubber_Soul/02-Norwegian_Wood_This_Bird_Has_Flown_\n",
      "Tue Apr  5 22:58:58 2016 File 16 of 180: beatles/Rubber_Soul/03-You_Won_t_See_Me\n",
      "Tue Apr  5 22:59:15 2016 File 17 of 180: beatles/Rubber_Soul/04-Nowhere_Man\n",
      "Tue Apr  5 22:59:23 2016 File 18 of 180: beatles/Rubber_Soul/05-Think_For_Yourself\n",
      "Tue Apr  5 22:59:29 2016 File 19 of 180: beatles/Rubber_Soul/06-The_Word\n",
      "Tue Apr  5 22:59:36 2016 File 20 of 180: beatles/Rubber_Soul/07-Michelle\n",
      "Tue Apr  5 22:59:41 2016 File 21 of 180: beatles/Rubber_Soul/08-What_Goes_On\n",
      "Tue Apr  5 22:59:53 2016 File 22 of 180: beatles/Rubber_Soul/09-Girl\n",
      "Tue Apr  5 22:59:59 2016 File 23 of 180: beatles/Rubber_Soul/10-I_m_Looking_Through_You\n",
      "Tue Apr  5 23:00:06 2016 File 24 of 180: beatles/Rubber_Soul/11-In_My_Life\n",
      "Tue Apr  5 23:00:11 2016 File 25 of 180: beatles/Rubber_Soul/12-Wait\n",
      "Tue Apr  5 23:00:17 2016 File 26 of 180: beatles/Rubber_Soul/13-If_I_Needed_Someone\n",
      "Tue Apr  5 23:00:23 2016 File 27 of 180: beatles/Rubber_Soul/14-Run_For_Your_Life\n",
      "Tue Apr  5 23:00:30 2016 File 28 of 180: beatles/The_White_Album_Disc_1/01-Back_In_The_U_S_S_R_\n",
      "Tue Apr  5 23:00:36 2016 File 29 of 180: beatles/The_White_Album_Disc_1/02-Dear_Prudence\n",
      "Tue Apr  5 23:00:45 2016 File 30 of 180: beatles/The_White_Album_Disc_1/03-Glass_Onion\n",
      "Tue Apr  5 23:00:51 2016 File 31 of 180: beatles/The_White_Album_Disc_1/04-Ob-La-Di_Ob-La-Da\n",
      "Tue Apr  5 23:00:58 2016 File 32 of 180: beatles/The_White_Album_Disc_1/05-Wild_Honey_Pie\n",
      "Tue Apr  5 23:01:00 2016 File 33 of 180: beatles/The_White_Album_Disc_1/06-The_Continuing_Story_Of_Bungalow_Bill\n",
      "Tue Apr  5 23:01:08 2016 File 34 of 180: beatles/The_White_Album_Disc_1/07-While_My_Guitar_Gently_Weeps\n",
      "Tue Apr  5 23:01:25 2016 File 35 of 180: beatles/The_White_Album_Disc_1/08-Happiness_Is_A_Warm_Gun\n",
      "Tue Apr  5 23:01:32 2016 File 36 of 180: beatles/The_White_Album_Disc_1/09-Martha_My_Dear\n",
      "Tue Apr  5 23:01:41 2016 File 37 of 180: beatles/The_White_Album_Disc_1/10-I_m_So_Tired\n",
      "Tue Apr  5 23:01:46 2016 File 38 of 180: beatles/The_White_Album_Disc_1/11-Blackbird\n",
      "Tue Apr  5 23:01:54 2016 File 39 of 180: beatles/The_White_Album_Disc_1/12-Piggies\n",
      "Tue Apr  5 23:02:10 2016 File 40 of 180: beatles/The_White_Album_Disc_1/13-Rocky_Raccoon\n",
      "Tue Apr  5 23:02:18 2016 File 41 of 180: beatles/The_White_Album_Disc_1/14-Don_t_Pass_Me_By\n",
      "Tue Apr  5 23:02:36 2016 File 42 of 180: beatles/The_White_Album_Disc_1/15-Why_Don_t_We_Do_It_In_The_Road\n",
      "Tue Apr  5 23:02:41 2016 File 43 of 180: beatles/The_White_Album_Disc_1/16-I_Will\n",
      "Tue Apr  5 23:02:48 2016 File 44 of 180: beatles/The_White_Album_Disc_1/17-Julia\n",
      "Tue Apr  5 23:03:01 2016 File 45 of 180: beatles/The_White_Album_Disc_2/01-Birthday\n",
      "Tue Apr  5 23:03:10 2016 File 46 of 180: beatles/The_White_Album_Disc_2/02-Yer_Blues\n",
      "Tue Apr  5 23:04:02 2016 File 47 of 180: beatles/The_White_Album_Disc_2/03-Mother_Nature_s_Son\n",
      "Tue Apr  5 23:04:09 2016 File 48 of 180: beatles/The_White_Album_Disc_2/04-Everybody_s_Got_Something_To_Hide_Except_Me_And_My_Monkey\n",
      "Tue Apr  5 23:04:15 2016 File 49 of 180: beatles/The_White_Album_Disc_2/05-Sexy_Sadie\n",
      "Tue Apr  5 23:04:24 2016 File 50 of 180: beatles/The_White_Album_Disc_2/06-Helter_Skelter\n",
      "Tue Apr  5 23:04:44 2016 File 51 of 180: beatles/The_White_Album_Disc_2/07-Long_Long_Long\n",
      "Tue Apr  5 23:04:52 2016 File 52 of 180: beatles/The_White_Album_Disc_2/08-Revolution_1\n",
      "Tue Apr  5 23:05:03 2016 File 53 of 180: beatles/The_White_Album_Disc_2/09-Honey_Pie\n",
      "Tue Apr  5 23:05:17 2016 File 54 of 180: beatles/The_White_Album_Disc_2/10-Savoy_Truffle\n",
      "Tue Apr  5 23:05:24 2016 File 55 of 180: beatles/The_White_Album_Disc_2/11-Cry_Baby_Cry\n",
      "Tue Apr  5 23:05:31 2016 File 56 of 180: beatles/The_White_Album_Disc_2/12-Revolution_9\n",
      "Tue Apr  5 23:07:19 2016 File 57 of 180: beatles/The_White_Album_Disc_2/13-Good_Night\n",
      "Tue Apr  5 23:07:26 2016 File 58 of 180: beatles/A_Hard_Day_s_Night/01-A_Hard_Day_s_Night\n",
      "Tue Apr  5 23:07:48 2016 File 59 of 180: beatles/A_Hard_Day_s_Night/02-I_Should_Have_Known_Better\n",
      "Tue Apr  5 23:08:03 2016 File 60 of 180: beatles/A_Hard_Day_s_Night/03-If_I_Fell\n",
      "Tue Apr  5 23:08:10 2016 File 61 of 180: beatles/A_Hard_Day_s_Night/04-I_m_Happy_Just_To_Dance_With_You\n",
      "Tue Apr  5 23:08:24 2016 File 62 of 180: beatles/A_Hard_Day_s_Night/05-And_I_Love_Her\n",
      "Tue Apr  5 23:08:46 2016 File 63 of 180: beatles/A_Hard_Day_s_Night/06-Tell_Me_Why\n",
      "Tue Apr  5 23:09:03 2016 File 64 of 180: beatles/A_Hard_Day_s_Night/07-Can_t_Buy_Me_Love\n",
      "Tue Apr  5 23:09:08 2016 File 65 of 180: beatles/A_Hard_Day_s_Night/08-Any_Time_At_All\n",
      "Tue Apr  5 23:09:26 2016 File 66 of 180: beatles/A_Hard_Day_s_Night/09-I_ll_Cry_Instead\n",
      "Tue Apr  5 23:09:30 2016 File 67 of 180: beatles/A_Hard_Day_s_Night/10-Things_We_Said_Today\n",
      "Tue Apr  5 23:09:36 2016 File 68 of 180: beatles/A_Hard_Day_s_Night/11-When_I_Get_Home\n",
      "Tue Apr  5 23:09:55 2016 File 69 of 180: beatles/A_Hard_Day_s_Night/12-You_Can_t_Do_That\n",
      "Tue Apr  5 23:10:02 2016 File 70 of 180: beatles/A_Hard_Day_s_Night/13-I_ll_Be_Back\n",
      "Tue Apr  5 23:10:08 2016 File 71 of 180: beatles/Revolver/01-Taxman\n",
      "Tue Apr  5 23:10:13 2016 File 72 of 180: beatles/Revolver/02-Eleanor_Rigby\n",
      "Tue Apr  5 23:10:18 2016 File 73 of 180: beatles/Revolver/03-I_m_Only_Sleeping\n",
      "Tue Apr  5 23:10:24 2016 File 74 of 180: beatles/Revolver/04-Love_You_To\n",
      "Tue Apr  5 23:10:31 2016 File 75 of 180: beatles/Revolver/05-Here_There_And_Everywhere\n",
      "Tue Apr  5 23:10:39 2016 File 76 of 180: beatles/Revolver/06-Yellow_Submarine\n",
      "Tue Apr  5 23:10:46 2016 File 77 of 180: beatles/Revolver/07-She_Said_She_Said\n",
      "Tue Apr  5 23:10:53 2016 File 78 of 180: beatles/Revolver/08-Good_Day_Sunshine\n",
      "Tue Apr  5 23:10:58 2016 File 79 of 180: beatles/Revolver/09-And_Your_Bird_Can_Sing\n",
      "Tue Apr  5 23:11:08 2016 File 80 of 180: beatles/Revolver/10-For_No_One\n",
      "Tue Apr  5 23:11:15 2016 File 81 of 180: beatles/Revolver/11-Doctor_Robert\n",
      "Tue Apr  5 23:11:21 2016 File 82 of 180: beatles/Revolver/12-I_Want_To_Tell_You\n",
      "Tue Apr  5 23:11:29 2016 File 83 of 180: beatles/Revolver/13-Got_To_Get_You_Into_My_Life\n",
      "Tue Apr  5 23:11:36 2016 File 84 of 180: beatles/Revolver/14-Tomorrow_Never_Knows\n",
      "Tue Apr  5 23:11:43 2016 File 85 of 180: beatles/Abbey_Road/01-Come_Together\n",
      "Tue Apr  5 23:12:04 2016 File 86 of 180: beatles/Abbey_Road/02-Something\n",
      "Tue Apr  5 23:12:36 2016 File 87 of 180: beatles/Abbey_Road/03-Maxwell_s_Silver_Hammer\n",
      "Tue Apr  5 23:12:47 2016 File 88 of 180: beatles/Abbey_Road/04-Oh_Darling\n",
      "Tue Apr  5 23:12:56 2016 File 89 of 180: beatles/Abbey_Road/05-Octopus_s_Garden\n",
      "Tue Apr  5 23:13:23 2016 File 90 of 180: beatles/Abbey_Road/06-I_Want_You_She_s_So_Heavy_\n",
      "Tue Apr  5 23:14:31 2016 File 91 of 180: beatles/Abbey_Road/07-Here_Comes_The_Sun\n",
      "Tue Apr  5 23:14:49 2016 File 92 of 180: beatles/Abbey_Road/08-Because\n",
      "Tue Apr  5 23:14:55 2016 File 93 of 180: beatles/Abbey_Road/09-You_Never_Give_Me_Your_Money\n",
      "Tue Apr  5 23:15:46 2016 File 94 of 180: beatles/Abbey_Road/10-Sun_King\n",
      "Tue Apr  5 23:15:51 2016 File 95 of 180: beatles/Abbey_Road/11-Mean_Mr_Mustard\n",
      "Tue Apr  5 23:15:53 2016 File 96 of 180: beatles/Abbey_Road/12-Polythene_Pam\n",
      "Tue Apr  5 23:15:56 2016 File 97 of 180: beatles/Abbey_Road/13-She_Came_In_Through_The_Bathroom_Window\n",
      "Tue Apr  5 23:16:05 2016 File 98 of 180: beatles/Abbey_Road/14-Golden_Slumbers\n",
      "Tue Apr  5 23:16:09 2016 File 99 of 180: beatles/Abbey_Road/15-Carry_That_Weight\n",
      "Tue Apr  5 23:16:12 2016 File 100 of 180: beatles/Abbey_Road/16-The_End\n",
      "Tue Apr  5 23:16:17 2016 File 101 of 180: beatles/Abbey_Road/17-Her_Majesty\n",
      "Tue Apr  5 23:16:18 2016 File 102 of 180: beatles/Beatles_For_Sale/01-No_Reply\n",
      "Tue Apr  5 23:16:36 2016 File 103 of 180: beatles/Beatles_For_Sale/02-I_m_A_Loser\n",
      "Tue Apr  5 23:16:43 2016 File 104 of 180: beatles/Beatles_For_Sale/03-Baby_s_In_Black\n",
      "Tue Apr  5 23:16:59 2016 File 105 of 180: beatles/Beatles_For_Sale/04-Rock_And_Roll_Music\n",
      "Tue Apr  5 23:17:05 2016 File 106 of 180: beatles/Beatles_For_Sale/05-I_ll_Follow_The_Sun\n",
      "Tue Apr  5 23:17:10 2016 File 107 of 180: beatles/Beatles_For_Sale/06-Mr_Moonlight\n",
      "Tue Apr  5 23:17:16 2016 File 108 of 180: beatles/Beatles_For_Sale/07-Medley_Kansas_City_Hey_Hey\n",
      "Tue Apr  5 23:17:23 2016 File 109 of 180: beatles/Beatles_For_Sale/08-Eight_Days_A_Week\n",
      "Tue Apr  5 23:17:29 2016 File 110 of 180: beatles/Beatles_For_Sale/09-Words_Of_Love\n",
      "Tue Apr  5 23:17:41 2016 File 111 of 180: beatles/Beatles_For_Sale/10-Honey_Don_t\n",
      "Tue Apr  5 23:18:10 2016 File 112 of 180: beatles/Beatles_For_Sale/11-Every_Little_Thing\n",
      "Tue Apr  5 23:18:26 2016 File 113 of 180: beatles/Beatles_For_Sale/12-I_Don_t_Want_To_Spoil_The_Party\n",
      "Tue Apr  5 23:18:32 2016 File 114 of 180: beatles/Beatles_For_Sale/13-What_You_re_Doing\n",
      "Tue Apr  5 23:18:38 2016 File 115 of 180: beatles/Beatles_For_Sale/14-Everybody_s_Trying_To_Be_My_Baby\n",
      "Tue Apr  5 23:18:46 2016 File 116 of 180: beatles/Sgt_Pepper_s_Lonely_Hearts_Club_Band/01-Sgt_Pepper_s_Lonely_Hearts_Club_Band\n",
      "Tue Apr  5 23:18:51 2016 File 117 of 180: beatles/Sgt_Pepper_s_Lonely_Hearts_Club_Band/02-With_A_Little_Help_From_My_Friends\n",
      "Tue Apr  5 23:18:57 2016 File 118 of 180: beatles/Sgt_Pepper_s_Lonely_Hearts_Club_Band/03-Lucy_In_The_Sky_With_Diamonds\n",
      "Tue Apr  5 23:19:20 2016 File 119 of 180: beatles/Sgt_Pepper_s_Lonely_Hearts_Club_Band/04-Getting_Better\n",
      "Tue Apr  5 23:19:28 2016 File 120 of 180: beatles/Sgt_Pepper_s_Lonely_Hearts_Club_Band/05-Fixing_A_Hole\n",
      "Tue Apr  5 23:19:35 2016 File 121 of 180: beatles/Sgt_Pepper_s_Lonely_Hearts_Club_Band/06-She_s_Leaving_Home\n",
      "Tue Apr  5 23:19:44 2016 File 122 of 180: beatles/Sgt_Pepper_s_Lonely_Hearts_Club_Band/07-Being_For_The_Benefit_Of_Mr_Kite\n",
      "Tue Apr  5 23:19:51 2016 File 123 of 180: beatles/Sgt_Pepper_s_Lonely_Hearts_Club_Band/08-Within_You_Without_You\n",
      "Tue Apr  5 23:20:03 2016 File 124 of 180: beatles/Sgt_Pepper_s_Lonely_Hearts_Club_Band/09-When_I_m_Sixty-Four\n",
      "Tue Apr  5 23:20:12 2016 File 125 of 180: beatles/Sgt_Pepper_s_Lonely_Hearts_Club_Band/10-Lovely_Rita\n",
      "Tue Apr  5 23:20:36 2016 File 126 of 180: beatles/Sgt_Pepper_s_Lonely_Hearts_Club_Band/11-Good_Morning_Good_Morning\n",
      "Tue Apr  5 23:20:42 2016 File 127 of 180: beatles/Sgt_Pepper_s_Lonely_Hearts_Club_Band/12-Sgt_Pepper_s_Lonely_Hearts_Club_Band_Reprise_\n",
      "Tue Apr  5 23:20:45 2016 File 128 of 180: beatles/Sgt_Pepper_s_Lonely_Hearts_Club_Band/13-A_Day_In_The_Life\n",
      "Tue Apr  5 23:21:03 2016 File 129 of 180: beatles/Let_It_Be/01-Two_Of_Us\n",
      "Tue Apr  5 23:21:27 2016 File 130 of 180: beatles/Let_It_Be/02-Dig_A_Pony\n",
      "Tue Apr  5 23:21:36 2016 File 131 of 180: beatles/Let_It_Be/03-Across_The_Universe\n",
      "Tue Apr  5 23:21:47 2016 File 132 of 180: beatles/Let_It_Be/04-I_Me_Mine\n",
      "Tue Apr  5 23:21:56 2016 File 133 of 180: beatles/Let_It_Be/05-Dig_It\n",
      "Tue Apr  5 23:21:57 2016 File 134 of 180: beatles/Let_It_Be/06-Let_It_Be\n",
      "Tue Apr  5 23:22:05 2016 File 135 of 180: beatles/Let_It_Be/07-Maggie_Mae\n",
      "Tue Apr  5 23:22:07 2016 File 136 of 180: beatles/Let_It_Be/08-I_ve_Got_A_Feeling\n",
      "Tue Apr  5 23:22:16 2016 File 137 of 180: beatles/Let_It_Be/09-One_After_909\n",
      "Tue Apr  5 23:22:23 2016 File 138 of 180: beatles/Let_It_Be/10-The_Long_And_Winding_Road\n",
      "Tue Apr  5 23:22:32 2016 File 139 of 180: beatles/Let_It_Be/11-For_You_Blue\n",
      "Tue Apr  5 23:22:38 2016 File 140 of 180: beatles/Let_It_Be/12-Get_Back\n",
      "Tue Apr  5 23:22:47 2016 File 141 of 180: beatles/Please_Please_Me/01-I_Saw_Her_Standing_There\n",
      "Tue Apr  5 23:22:55 2016 File 142 of 180: beatles/Please_Please_Me/02-Misery\n",
      "Tue Apr  5 23:23:00 2016 File 143 of 180: beatles/Please_Please_Me/03-Anna_Go_To_Him_\n",
      "Tue Apr  5 23:23:10 2016 File 144 of 180: beatles/Please_Please_Me/04-Chains\n",
      "Tue Apr  5 23:23:31 2016 File 145 of 180: beatles/Please_Please_Me/05-Boys\n",
      "Tue Apr  5 23:23:42 2016 File 146 of 180: beatles/Please_Please_Me/06-Ask_Me_Why\n",
      "Tue Apr  5 23:23:48 2016 File 147 of 180: beatles/Please_Please_Me/07-Please_Please_Me\n",
      "Tue Apr  5 23:23:53 2016 File 148 of 180: beatles/Please_Please_Me/08-Love_Me_Do\n",
      "Tue Apr  5 23:23:58 2016 File 149 of 180: beatles/Please_Please_Me/09-P_S_I_Love_You\n",
      "Tue Apr  5 23:24:04 2016 File 150 of 180: beatles/Please_Please_Me/10-Baby_It_s_You\n",
      "Tue Apr  5 23:24:10 2016 File 151 of 180: beatles/Please_Please_Me/11-Do_You_Want_To_Know_A_Secret\n",
      "Tue Apr  5 23:24:25 2016 File 152 of 180: beatles/Please_Please_Me/12-A_Taste_Of_Honey\n",
      "Tue Apr  5 23:24:30 2016 File 153 of 180: beatles/Please_Please_Me/13-There_s_A_Place\n",
      "Tue Apr  5 23:24:34 2016 File 154 of 180: beatles/Please_Please_Me/14-Twist_And_Shout\n",
      "Tue Apr  5 23:24:48 2016 File 155 of 180: beatles/Help_/01-Help_\n",
      "Tue Apr  5 23:25:07 2016 File 156 of 180: beatles/Help_/02-The_Night_Before\n",
      "Tue Apr  5 23:25:31 2016 File 157 of 180: beatles/Help_/03-You_ve_Got_To_Hide_Your_Love_Away\n",
      "Tue Apr  5 23:25:36 2016 File 158 of 180: beatles/Help_/04-I_Need_You\n",
      "Tue Apr  5 23:25:41 2016 File 159 of 180: beatles/Help_/05-Another_Girl\n",
      "Tue Apr  5 23:25:46 2016 File 160 of 180: beatles/Help_/06-You_re_Going_To_Lose_That_Girl\n",
      "Tue Apr  5 23:25:52 2016 File 161 of 180: beatles/Help_/07-Ticket_To_Ride\n",
      "Tue Apr  5 23:26:26 2016 File 162 of 180: beatles/Help_/08-Act_Naturally\n",
      "Tue Apr  5 23:26:49 2016 File 163 of 180: beatles/Help_/09-It_s_Only_Love\n",
      "Tue Apr  5 23:26:53 2016 File 164 of 180: beatles/Help_/10-You_Like_Me_Too_Much\n",
      "Tue Apr  5 23:27:03 2016 File 165 of 180: beatles/Help_/11-Tell_Me_What_You_See\n",
      "Tue Apr  5 23:27:09 2016 File 166 of 180: beatles/Help_/12-I_ve_Just_Seen_A_Face\n",
      "Tue Apr  5 23:27:14 2016 File 167 of 180: beatles/Help_/13-Yesterday\n",
      "Tue Apr  5 23:27:21 2016 File 168 of 180: beatles/Help_/14-Dizzy_Miss_Lizzy\n",
      "Tue Apr  5 23:27:28 2016 File 169 of 180: beatles/Magical_Mystery_Tour/01-Magical_Mystery_Tour\n",
      "Tue Apr  5 23:27:36 2016 File 170 of 180: beatles/Magical_Mystery_Tour/02-The_Fool_On_The_Hill\n",
      "Tue Apr  5 23:28:06 2016 File 171 of 180: beatles/Magical_Mystery_Tour/03-Flying\n",
      "Tue Apr  5 23:28:13 2016 File 172 of 180: beatles/Magical_Mystery_Tour/04-Blue_Jay_Way\n",
      "Tue Apr  5 23:28:22 2016 File 173 of 180: beatles/Magical_Mystery_Tour/05-Your_Mother_Should_Know\n",
      "Tue Apr  5 23:28:43 2016 File 174 of 180: beatles/Magical_Mystery_Tour/06-I_Am_The_Walrus\n",
      "Tue Apr  5 23:28:53 2016 File 175 of 180: beatles/Magical_Mystery_Tour/07-Hello_Goodbye\n",
      "Tue Apr  5 23:29:16 2016 File 176 of 180: beatles/Magical_Mystery_Tour/08-Strawberry_Fields_Forever\n",
      "Tue Apr  5 23:29:27 2016 File 177 of 180: beatles/Magical_Mystery_Tour/09-Penny_Lane\n",
      "Tue Apr  5 23:29:41 2016 File 178 of 180: beatles/Magical_Mystery_Tour/10-Baby_You_re_A_Rich_Man\n",
      "Tue Apr  5 23:29:53 2016 File 179 of 180: beatles/Magical_Mystery_Tour/11-All_You_Need_Is_Love\n"
     ]
    }
   ],
   "source": [
    "for number, file_id in enumerate(all_ids):\n",
    "    print(time.ctime(), \"File {:d} of {:d}: {:s}\".format(number, len(all_ids), file_id))\n",
    "    beat_times, beat_chroma, label_indices = calculate_chroma_and_labels_of_id(file_id)\n",
    "    beatchromlab_filename = os.path.join(DATA_DIR, 'beatchromlabs', file_id + '.pkl')\n",
    "    write_beat_chroma_labels(beatchromlab_filename, beat_times, beat_chroma, label_indices)"
   ]
  },
  {
   "cell_type": "code",
   "execution_count": null,
   "metadata": {
    "collapsed": true
   },
   "outputs": [],
   "source": []
  }
 ],
 "metadata": {
  "kernelspec": {
   "display_name": "Python 2",
   "language": "python",
   "name": "python2"
  },
  "language_info": {
   "codemirror_mode": {
    "name": "ipython",
    "version": 2
   },
   "file_extension": ".py",
   "mimetype": "text/x-python",
   "name": "python",
   "nbconvert_exporter": "python",
   "pygments_lexer": "ipython2",
   "version": "2.7.11"
  }
 },
 "nbformat": 4,
 "nbformat_minor": 0
}
